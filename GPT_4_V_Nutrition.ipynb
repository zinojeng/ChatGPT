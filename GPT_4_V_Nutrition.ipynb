{
  "nbformat": 4,
  "nbformat_minor": 0,
  "metadata": {
    "colab": {
      "private_outputs": true,
      "provenance": [],
      "authorship_tag": "ABX9TyMXJ5egEgt2FAniyr0H8mL3",
      "include_colab_link": true
    },
    "kernelspec": {
      "name": "python3",
      "display_name": "Python 3"
    },
    "language_info": {
      "name": "python"
    }
  },
  "cells": [
    {
      "cell_type": "markdown",
      "metadata": {
        "id": "view-in-github",
        "colab_type": "text"
      },
      "source": [
        "<a href=\"https://colab.research.google.com/github/zinojeng/ChatGPT/blob/main/GPT_4_V_Nutrition.ipynb\" target=\"_parent\"><img src=\"https://colab.research.google.com/assets/colab-badge.svg\" alt=\"Open In Colab\"/></a>"
      ]
    },
    {
      "cell_type": "code",
      "execution_count": null,
      "metadata": {
        "id": "unjhZZhO6RBn"
      },
      "outputs": [],
      "source": [
        "!pip install \"openai>=1\""
      ]
    },
    {
      "cell_type": "code",
      "source": [
        "import cv2\n",
        "from google.colab.patches import cv2_imshow\n",
        "!wget https://static.oprah.com/2017/03/201703-orig-healthy-plate-949x534.jpg\n",
        "img = cv2.imread(\"201703-orig-healthy-plate-949x534.jpg\")\n",
        "cv2_imshow(img)"
      ],
      "metadata": {
        "id": "dj-eVF1u6qog"
      },
      "execution_count": null,
      "outputs": []
    },
    {
      "cell_type": "code",
      "source": [
        "import os\n",
        "os.environ['OPENAI_API_KEY'] = 'api-key'"
      ],
      "metadata": {
        "id": "KIz_suAn7UVX"
      },
      "execution_count": null,
      "outputs": []
    },
    {
      "cell_type": "code",
      "source": [
        "from openai import OpenAI\n",
        "\n",
        "client = OpenAI()\n",
        "\n",
        "response = client.chat.completions.create(\n",
        "    model=\"gpt-4-vision-preview\",\n",
        "    messages=[\n",
        "        {\n",
        "            \"role\": \"user\",\n",
        "            \"content\": [\n",
        "                {\"type\": \"text\", \"text\": \"Identify all food items in this image and calculate the nutritions content and calories and response in zh-tw\"},\n",
        "                {\n",
        "                    \"type\": \"image_url\",\n",
        "                    \"image_url\": \"https://static.oprah.com/2017/03/201703-orig-healthy-plate-949x534.jpg\",\n",
        "                },\n",
        "            ],\n",
        "        },\n",
        "    ],\n",
        "    max_tokens=300,\n",
        ")"
      ],
      "metadata": {
        "id": "NRLL0Oeb667_"
      },
      "execution_count": null,
      "outputs": []
    },
    {
      "cell_type": "code",
      "source": [
        "out = response.choices[0].message.content\n",
        "print(out)"
      ],
      "metadata": {
        "id": "AHjGR34L9Lth"
      },
      "execution_count": null,
      "outputs": []
    },
    {
      "cell_type": "code",
      "source": [
        "from openai import OpenAI\n",
        "\n",
        "client = OpenAI()\n",
        "\n",
        "response = client.chat.completions.create(\n",
        "    model=\"gpt-4-vision-preview\",\n",
        "    messages=[\n",
        "        {\n",
        "            \"role\": \"user\",\n",
        "            \"content\": [\n",
        "                {\"type\": \"text\", \"text\": \"What’s in this image?\"},\n",
        "                {\n",
        "                    \"type\": \"image_url\",\n",
        "                    \"image_url\": \"https://static.oprah.com/2017/03/201703-orig-healthy-plate-949x534.jpg\",\n",
        "                },\n",
        "            ],\n",
        "        },\n",
        "        {\"role\": \"assistant\", \"content\": out},\n",
        "        {\"role\": \"user\", \"content\": \"How can I make this meal more balanced ? Answer in zh-tw\"}\n",
        "    ],\n",
        "    max_tokens=300,\n",
        ")"
      ],
      "metadata": {
        "id": "ngDm1yo2A4qR"
      },
      "execution_count": null,
      "outputs": []
    },
    {
      "cell_type": "code",
      "source": [
        "out = response.choices[0].message.content\n",
        "print(out)"
      ],
      "metadata": {
        "id": "8JBrNgB7BJBf"
      },
      "execution_count": null,
      "outputs": []
    }
  ]
}